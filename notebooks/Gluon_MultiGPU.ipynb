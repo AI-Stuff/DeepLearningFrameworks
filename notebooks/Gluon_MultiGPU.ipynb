{
 "cells": [
  {
   "cell_type": "markdown",
   "metadata": {},
   "source": [
    "# MXNet Gluon Multi-GPU"
   ]
  },
  {
   "cell_type": "code",
   "execution_count": 1,
   "metadata": {},
   "outputs": [],
   "source": [
    "import os\n",
    "import sys\n",
    "import multiprocessing\n",
    "import logging\n",
    "import numpy as np\n",
    "import pandas as pd\n",
    "\n",
    "import mxnet as mx\n",
    "from mxnet.io import DataDesc\n",
    "from mxnet import nd, gluon, autograd\n",
    "from mxnet.gluon.data import RecordFileDataset, ArrayDataset, Dataset\n",
    "from mxnet.gluon.data.vision import transforms\n",
    "from mxnet.gluon.data.vision.datasets import ImageFolderDataset\n",
    "from mxnet.gluon.data.dataloader import DataLoader\n",
    "from mxnet.gluon.model_zoo import vision as models\n",
    "from mxnet import recordio\n",
    "\n",
    "from sklearn.metrics.ranking import roc_auc_score\n",
    "from sklearn.model_selection import train_test_split\n",
    "from PIL import Image\n",
    "from common.utils import *\n",
    "from common.params_dense import *\n",
    "import math\n",
    "from time import time\n",
    "\n",
    "%load_ext autoreload\n",
    "%autoreload 2"
   ]
  },
  {
   "cell_type": "code",
   "execution_count": 2,
   "metadata": {},
   "outputs": [
    {
     "name": "stdout",
     "output_type": "stream",
     "text": [
      "OS:  linux\n",
      "Python:  3.6.3 |Anaconda custom (64-bit)| (default, Oct 13 2017, 12:02:49) \n",
      "[GCC 7.2.0]\n",
      "Numpy:  1.13.3\n",
      "MXNet:  1.3.0\n",
      "GPU:  ['Tesla V100-SXM2-16GB', 'Tesla V100-SXM2-16GB', 'Tesla V100-SXM2-16GB', 'Tesla V100-SXM2-16GB']\n",
      "CUDA Version 9.1.85\n",
      "CuDNN Version  7.1.3\n"
     ]
    }
   ],
   "source": [
    "print(\"OS: \", sys.platform)\n",
    "print(\"Python: \", sys.version)\n",
    "print(\"Numpy: \", np.__version__)\n",
    "print(\"MXNet: \", mx.__version__)\n",
    "print(\"GPU: \", get_gpu_name())\n",
    "print(get_cuda_version())\n",
    "print(\"CuDNN Version \", get_cudnn_version())"
   ]
  },
  {
   "cell_type": "code",
   "execution_count": 3,
   "metadata": {
    "collapsed": true
   },
   "outputs": [
    {
     "name": "stdout",
     "output_type": "stream",
     "text": [
      "CPUs:  32\n",
      "GPUs:  4\n"
     ]
    }
   ],
   "source": [
    "# User-set\n",
    "# Note if NUM_GPUS > 1 then MULTI_GPU = True and ALL GPUs will be used\n",
    "# Set below to affect batch-size\n",
    "# E.g. 1 GPU = 64, 2 GPUs =64*2, 4 GPUs = 64*4\n",
    "# Note that the effective learning-rate will be decreased this way\n",
    "GPU_COUNT = len(get_gpu_name())\n",
    "CPU_COUNT = multiprocessing.cpu_count() \n",
    "MULTI_GPU = GPU_COUNT > 1\n",
    "print(\"CPUs: \", CPU_COUNT)\n",
    "print(\"GPUs: \", GPU_COUNT)"
   ]
  },
  {
   "cell_type": "code",
   "execution_count": 4,
   "metadata": {},
   "outputs": [],
   "source": [
    "# Manually scale to multi-gpu\n",
    "if MULTI_GPU:\n",
    "    LR *= GPU_COUNT\n",
    "    BATCHSIZE *= (GPU_COUNT)\n",
    "    BATCHSIZE = BATCHSIZE//GPU_COUNT*GPU_COUNT"
   ]
  },
  {
   "cell_type": "markdown",
   "metadata": {},
   "source": [
    "## Data Download"
   ]
  },
  {
   "cell_type": "code",
   "execution_count": 5,
   "metadata": {
    "collapsed": true
   },
   "outputs": [],
   "source": [
    "# Model-params\n",
    "# Paths\n",
    "CSV_DEST = \"/data/chestxray\"\n",
    "IMAGE_FOLDER = os.path.join(CSV_DEST, \"images\")\n",
    "LABEL_FILE = os.path.join(CSV_DEST, \"Data_Entry_2017.csv\")"
   ]
  },
  {
   "cell_type": "code",
   "execution_count": 6,
   "metadata": {},
   "outputs": [
    {
     "name": "stdout",
     "output_type": "stream",
     "text": [
      "Please make sure to download\n",
      "https://docs.microsoft.com/en-us/azure/storage/common/storage-use-azcopy-linux#download-and-install-azcopy\n",
      "Data already exists\n",
      "CPU times: user 496 ms, sys: 124 ms, total: 620 ms\n",
      "Wall time: 617 ms\n"
     ]
    }
   ],
   "source": [
    "%%time\n",
    "# Download data\n",
    "print(\"Please make sure to download\")\n",
    "print(\"https://docs.microsoft.com/en-us/azure/storage/common/storage-use-azcopy-linux#download-and-install-azcopy\")\n",
    "download_data_chextxray(CSV_DEST)"
   ]
  },
  {
   "cell_type": "markdown",
   "metadata": {},
   "source": [
    "## Data prep\n",
    "https://github.com/apache/incubator-mxnet/issues/1480\n"
   ]
  },
  {
   "cell_type": "code",
   "execution_count": 7,
   "metadata": {},
   "outputs": [
    {
     "name": "stdout",
     "output_type": "stream",
     "text": [
      "train:21563 valid:3080 test:6162\n"
     ]
    }
   ],
   "source": [
    "train_set, valid_set, test_set = get_train_valid_test_split(TOT_PATIENT_NUMBER)"
   ]
  },
  {
   "cell_type": "markdown",
   "metadata": {},
   "source": [
    "## Data Loading"
   ]
  },
  {
   "cell_type": "markdown",
   "metadata": {},
   "source": [
    "### Creating the datasets"
   ]
  },
  {
   "cell_type": "code",
   "execution_count": 8,
   "metadata": {},
   "outputs": [],
   "source": [
    "class XrayData(Dataset):\n",
    "    def __init__(self, img_dir, lbl_file, patient_ids, transform=None):\n",
    "        \n",
    "        self.img_locs, self.labels = get_imgloc_labels(img_dir, lbl_file, patient_ids)\n",
    "        self.transform = transform\n",
    "        print(\"Loaded {} labels and {} images\".format(len(self.labels), len(self.img_locs)))\n",
    "    \n",
    "    def __getitem__(self, idx):\n",
    "        im_file = self.img_locs[idx]\n",
    "        im_rgb = Image.open(im_file)\n",
    "        label = self.labels[idx]\n",
    "        im_rgb = mx.nd.array(im_rgb)\n",
    "        if self.transform is not None:\n",
    "            im_rgb = self.transform(im_rgb)\n",
    "\n",
    "        return im_rgb, mx.nd.array(label)\n",
    "        \n",
    "    def __len__(self):\n",
    "        return len(self.img_locs)"
   ]
  },
  {
   "cell_type": "code",
   "execution_count": 9,
   "metadata": {},
   "outputs": [],
   "source": [
    "def no_augmentation_dataset(img_dir, lbl_file, patient_ids, normalize):\n",
    "    dataset = XrayData(img_dir, lbl_file, patient_ids,\n",
    "                       transform=transforms.Compose([\n",
    "                           transforms.Resize(WIDTH),\n",
    "                           transforms.ToTensor(),  \n",
    "                           transforms.Normalize(IMAGENET_RGB_MEAN, IMAGENET_RGB_SD)]))\n",
    "    return dataset"
   ]
  },
  {
   "cell_type": "code",
   "execution_count": 10,
   "metadata": {},
   "outputs": [
    {
     "name": "stdout",
     "output_type": "stream",
     "text": [
      "Loaded 87306 labels and 87306 images\n"
     ]
    }
   ],
   "source": [
    "# Dataset for training\n",
    "train_dataset = XrayData(img_dir=IMAGE_FOLDER,\n",
    "                         lbl_file=LABEL_FILE,\n",
    "                         patient_ids=train_set,\n",
    "                         transform=transforms.Compose([\n",
    "                             transforms.RandomResizedCrop(size=WIDTH),\n",
    "                             transforms.RandomFlipLeftRight(),\n",
    "                             transforms.ToTensor(),\n",
    "                             transforms.Normalize(IMAGENET_RGB_MEAN, IMAGENET_RGB_SD)]))"
   ]
  },
  {
   "cell_type": "code",
   "execution_count": 11,
   "metadata": {},
   "outputs": [
    {
     "name": "stdout",
     "output_type": "stream",
     "text": [
      "Loaded 7616 labels and 7616 images\n",
      "Loaded 17198 labels and 17198 images\n"
     ]
    }
   ],
   "source": [
    "valid_dataset = no_augmentation_dataset(IMAGE_FOLDER, LABEL_FILE, valid_set, transforms.Normalize(IMAGENET_RGB_MEAN, IMAGENET_RGB_SD))\n",
    "test_dataset = no_augmentation_dataset(IMAGE_FOLDER, LABEL_FILE, test_set, transforms.Normalize(IMAGENET_RGB_MEAN, IMAGENET_RGB_SD))"
   ]
  },
  {
   "cell_type": "code",
   "execution_count": 12,
   "metadata": {},
   "outputs": [],
   "source": [
    "# DataLoaders\n",
    "train_loader = DataLoader(dataset=train_dataset, batch_size=BATCHSIZE,\n",
    "                          shuffle=True, num_workers=12, last_batch='discard')\n",
    "valid_loader = DataLoader(dataset=valid_dataset, batch_size=BATCHSIZE,\n",
    "                          shuffle=False, num_workers=6, last_batch='discard')\n",
    "test_loader = DataLoader(dataset=test_dataset, batch_size=BATCHSIZE,\n",
    "                         shuffle=False, num_workers=6, last_batch='discard')"
   ]
  },
  {
   "cell_type": "markdown",
   "metadata": {},
   "source": [
    "## Creating the network"
   ]
  },
  {
   "cell_type": "markdown",
   "metadata": {},
   "source": [
    "### Loading the pretrained model"
   ]
  },
  {
   "cell_type": "code",
   "execution_count": 13,
   "metadata": {},
   "outputs": [],
   "source": [
    "ctx = [mx.gpu(i) for i in range(GPU_COUNT)]   "
   ]
  },
  {
   "cell_type": "code",
   "execution_count": 23,
   "metadata": {
    "collapsed": true
   },
   "outputs": [],
   "source": [
    "net = mx.gluon.model_zoo.vision.densenet121(pretrained=True, ctx=ctx)\n",
    "with net.name_scope():\n",
    "    net.output = mx.gluon.nn.Dense(CLASSES)\n",
    "net.output.initialize(ctx=ctx)\n",
    "net.hybridize()"
   ]
  },
  {
   "cell_type": "markdown",
   "metadata": {},
   "source": [
    "## Trainer"
   ]
  },
  {
   "cell_type": "code",
   "execution_count": 24,
   "metadata": {},
   "outputs": [],
   "source": [
    "trainer = gluon.Trainer(net.collect_params(), 'adam', {'learning_rate': LR})"
   ]
  },
  {
   "cell_type": "markdown",
   "metadata": {},
   "source": [
    "## Loss "
   ]
  },
  {
   "cell_type": "code",
   "execution_count": 25,
   "metadata": {},
   "outputs": [],
   "source": [
    "binary_cross_entropy = gluon.loss.SigmoidBinaryCrossEntropyLoss()"
   ]
  },
  {
   "cell_type": "markdown",
   "metadata": {},
   "source": [
    "## Output"
   ]
  },
  {
   "cell_type": "code",
   "execution_count": 26,
   "metadata": {},
   "outputs": [],
   "source": [
    "sig = gluon.nn.Activation('sigmoid')"
   ]
  },
  {
   "cell_type": "markdown",
   "metadata": {},
   "source": [
    "## Evaluation loop"
   ]
  },
  {
   "cell_type": "code",
   "execution_count": 27,
   "metadata": {
    "collapsed": true
   },
   "outputs": [],
   "source": [
    "def evaluate_accuracy(data_iterator, net):\n",
    "    acc = 0\n",
    "    for i, (data, label) in enumerate(data_iterator):\n",
    "        data_split = gluon.utils.split_and_load(data, ctx)\n",
    "        label_split = gluon.utils.split_and_load(label, ctx)\n",
    "        outputs = [(sig(net(X)),Y) for X, Y in zip(data_split, label_split)]\n",
    "        for output, label in outputs:\n",
    "            acc += float((label.asnumpy() == np.round(output.asnumpy())).sum()) / CLASSES / output.shape[0]\n",
    "    data_split = gluon.utils.split_and_load(data, [mx.cpu()])\n",
    "    label_split = gluon.utils.split_and_load(label, [mx.cpu()])\n",
    "    return acc/i/len(ctx)"
   ]
  },
  {
   "cell_type": "markdown",
   "metadata": {},
   "source": [
    "## Training loop"
   ]
  },
  {
   "cell_type": "code",
   "execution_count": 28,
   "metadata": {},
   "outputs": [],
   "source": [
    "n_batch = 5 # Blocking call every 5 batches\n",
    "n_print = 100 # Print every 100 batches"
   ]
  },
  {
   "cell_type": "code",
   "execution_count": 29,
   "metadata": {},
   "outputs": [],
   "source": [
    "def train_epoch(net, dataloader, trainer, loss_fn, ctx, n_batch=7, n_print=100):\n",
    "    losses_acc = [mx.nd.zeros((1), ctx=c) for c in ctx]\n",
    "    print_loss = 0\n",
    "    for i, (data, label) in enumerate(dataloader):        \n",
    "        data_split = gluon.utils.split_and_load(data, ctx)\n",
    "        label_split = gluon.utils.split_and_load(label, ctx)  \n",
    "        \n",
    "        if i > 0:\n",
    "            for j, l in enumerate(losses):\n",
    "                # Accumulate losses asynchronously on each GPU\n",
    "                losses_acc[j] += l.mean()\n",
    "            if i%n_batch == 0:\n",
    "                # Blocking call\n",
    "                print_loss = sum(losses_acc).asscalar()/i/len(ctx)\n",
    "            if i%n_print == 0:\n",
    "                print('Batch {0}: Loss: {1:.4f}'.format(i, print_loss))            \n",
    "            \n",
    "        with autograd.record():\n",
    "            losses = [loss_fn(net(X), Y) for X, Y in zip(data_split, label_split)]\n",
    "        for l in losses:\n",
    "            l.backward()\n",
    "        trainer.step(data.shape[0]) "
   ]
  },
  {
   "cell_type": "code",
   "execution_count": 30,
   "metadata": {},
   "outputs": [
    {
     "name": "stdout",
     "output_type": "stream",
     "text": [
      "Batch 100: Loss: 0.2078\n",
      "Batch 200: Loss: 0.1870\n",
      "Batch 300: Loss: 0.1787\n",
      "Epoch 0, 0.985591 test_accuracy after 102.15 seconds\n",
      "Batch 100: Loss: 0.1594\n",
      "Batch 200: Loss: 0.1592\n",
      "Batch 300: Loss: 0.1591\n",
      "Epoch 1, 0.985651 test_accuracy after 101.65 seconds\n",
      "Batch 100: Loss: 0.1573\n",
      "Batch 200: Loss: 0.1568\n",
      "Batch 300: Loss: 0.1562\n",
      "Epoch 2, 0.985900 test_accuracy after 101.06 seconds\n",
      "Batch 100: Loss: 0.1528\n",
      "Batch 200: Loss: 0.1539\n",
      "Batch 300: Loss: 0.1541\n",
      "Epoch 3, 0.986388 test_accuracy after 100.76 seconds\n",
      "Batch 100: Loss: 0.1546\n",
      "Batch 200: Loss: 0.1535\n",
      "Batch 300: Loss: 0.1530\n",
      "Epoch 4, 0.985621 test_accuracy after 101.24 seconds\n",
      "CPU times: user 30min 16s, sys: 11min 43s, total: 41min 59s\n",
      "Wall time: 8min 26s\n"
     ]
    }
   ],
   "source": [
    "%%time\n",
    "for e in range(EPOCHS):\n",
    "    tick = time()\n",
    "    train_epoch(net, train_loader, trainer, binary_cross_entropy, ctx)\n",
    "    test_accuracy = evaluate_accuracy(valid_loader, net)\n",
    "    print('Epoch {0}, {1:.6f} test_accuracy after {2:.2f} seconds'.format(e, test_accuracy, time()-tick))"
   ]
  },
  {
   "cell_type": "markdown",
   "metadata": {},
   "source": [
    "## Evaluate"
   ]
  },
  {
   "cell_type": "code",
   "execution_count": 31,
   "metadata": {},
   "outputs": [
    {
     "name": "stdout",
     "output_type": "stream",
     "text": [
      "CPU times: user 19 s, sys: 8.42 s, total: 27.4 s\n",
      "Wall time: 15 s\n"
     ]
    }
   ],
   "source": [
    "%%time\n",
    "predictions = np.zeros((0, CLASSES))\n",
    "labels = np.zeros((0, CLASSES))\n",
    "for (data, label) in (test_loader):        \n",
    "    data_split = gluon.utils.split_and_load(data, ctx)\n",
    "    label_split = gluon.utils.split_and_load(label, ctx)  \n",
    "    outputs = [sig(net(X)) for X in data_split]\n",
    "    predictions = np.concatenate([predictions, np.concatenate([output.asnumpy() for output in outputs])])\n",
    "    labels = np.concatenate([labels, np.concatenate([label.asnumpy() for label in label_split])])"
   ]
  },
  {
   "cell_type": "code",
   "execution_count": 32,
   "metadata": {},
   "outputs": [
    {
     "name": "stdout",
     "output_type": "stream",
     "text": [
      "Full AUC [0.81211632622917096, 0.84144965001009531, 0.80179704197894863, 0.89335185208540913, 0.88084269738130094, 0.91347744293374178, 0.73101712618878545, 0.82507029348089722, 0.62537616015020214, 0.83395314850495816, 0.73411747923214821, 0.80210068122717981, 0.74248964918336102, 0.88468864780883816]\n",
      "Validation AUC: 0.8087\n"
     ]
    }
   ],
   "source": [
    "print(\"Validation AUC: {0:.4f}\".format(compute_roc_auc(labels, predictions, CLASSES)))"
   ]
  },
  {
   "cell_type": "markdown",
   "metadata": {},
   "source": [
    "## Synthetic Data (Pure Training)"
   ]
  },
  {
   "cell_type": "code",
   "execution_count": 37,
   "metadata": {},
   "outputs": [
    {
     "name": "stdout",
     "output_type": "stream",
     "text": [
      "87296\n"
     ]
    }
   ],
   "source": [
    "# Test on fake-data -> no IO lag\n",
    "batch_in_epoch = len(train_dataset.labels)//BATCHSIZE\n",
    "tot_num = batch_in_epoch * BATCHSIZE\n",
    "print(tot_num)"
   ]
  },
  {
   "cell_type": "code",
   "execution_count": 38,
   "metadata": {},
   "outputs": [],
   "source": [
    "fake_X = mx.nd.ones((tot_num, 3, 224, 224), dtype=np.float32)\n",
    "fake_y = mx.nd.ones((tot_num, CLASSES), dtype=np.float32)"
   ]
  },
  {
   "cell_type": "code",
   "execution_count": 41,
   "metadata": {},
   "outputs": [],
   "source": [
    "train_dataset_synth = ArrayDataset(fake_X, fake_y)\n",
    "train_dataloader_synth = DataLoader(train_dataset_synth, BATCHSIZE, shuffle=False, num_workers=0, last_batch='discard')"
   ]
  },
  {
   "cell_type": "code",
   "execution_count": 42,
   "metadata": {},
   "outputs": [
    {
     "name": "stdout",
     "output_type": "stream",
     "text": [
      "Batch 100: Loss: 0.0000\n",
      "Batch 200: Loss: 0.0000\n",
      "Batch 300: Loss: 0.0000\n",
      "Epoch 0, 84.79 seconds\n",
      "Batch 100: Loss: 0.0000\n",
      "Batch 200: Loss: 0.0000\n",
      "Batch 300: Loss: 0.0000\n",
      "Epoch 1, 84.73 seconds\n",
      "Batch 100: Loss: 0.0000\n",
      "Batch 200: Loss: 0.0000\n",
      "Batch 300: Loss: 0.0000\n",
      "Epoch 2, 84.87 seconds\n",
      "Batch 100: Loss: 0.0000\n",
      "Batch 200: Loss: 0.0000\n",
      "Batch 300: Loss: 0.0000\n",
      "Epoch 3, 85.17 seconds\n",
      "Batch 100: Loss: 0.0000\n",
      "Batch 200: Loss: 0.0000\n",
      "Batch 300: Loss: 0.0000\n",
      "Epoch 4, 84.86 seconds\n",
      "CPU times: user 27min 53s, sys: 11min 9s, total: 39min 3s\n",
      "Wall time: 7min 4s\n"
     ]
    }
   ],
   "source": [
    "%%time\n",
    "n_batch = 100\n",
    "for e in range(EPOCHS):\n",
    "    tick = time()\n",
    "    train_epoch(net, train_dataloader_synth, trainer, binary_cross_entropy, ctx)\n",
    "    nd.waitall()\n",
    "    print('Epoch {0}, {1:.2f} seconds'.format(e, time()-tick))"
   ]
  }
 ],
 "metadata": {
  "kernelspec": {
   "display_name": "Python 3",
   "language": "python",
   "name": "python3"
  },
  "language_info": {
   "codemirror_mode": {
    "name": "ipython",
    "version": 3
   },
   "file_extension": ".py",
   "mimetype": "text/x-python",
   "name": "python",
   "nbconvert_exporter": "python",
   "pygments_lexer": "ipython3",
   "version": "3.6.3"
  }
 },
 "nbformat": 4,
 "nbformat_minor": 2
}
